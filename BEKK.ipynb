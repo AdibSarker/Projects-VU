{
 "cells": [
  {
   "cell_type": "markdown",
   "metadata": {},
   "source": [
    "### In dit script gaan we het BEKK(1,1) model schatten"
   ]
  },
  {
   "cell_type": "markdown",
   "metadata": {},
   "source": [
    "Om de cel hier onder te runnen moet er een package geinstalleerd worden via anaconda prompt. Deze package zorgt ervoor dat we functies uit andere scripts kunnen gerbuiken in dit script.\n",
    "<break>\n",
    "Tik het volgende in anaconda prompt:\n",
    "<br \\>\n",
    "**pip install ipynb**\n"
   ]
  },
  {
   "cell_type": "code",
   "execution_count": 1,
   "metadata": {
    "collapsed": true
   },
   "outputs": [],
   "source": [
    "%%capture\n",
    "import pandas as pd\n",
    "import numpy as np\n",
    "from numpy.linalg import inv\n",
    "from numpy.linalg import det\n",
    "from pandas_datareader import data as wb\n",
    "import matplotlib.pyplot as plt\n",
    "from ipynb.fs.full.Dataset import getdata\n",
    "from ipynb.fs.full.Dataset import getreturns\n",
    "from scipy.optimize import minimize\n",
    "from scipy.special import gammaln\n",
    "import warnings\n",
    "warnings.filterwarnings('ignore')"
   ]
  },
  {
   "cell_type": "markdown",
   "metadata": {},
   "source": [
    "###### Hier onder wordt de dataset verkregen. Ik gebruik 2010 tot en met 2015 als mijn in-sample data.\n",
    "<break>\n",
    "Hiervoor gebruik een functie die in een ander script (Dataset) is geschreven"
   ]
  },
  {
   "cell_type": "code",
   "execution_count": 2,
   "metadata": {
    "collapsed": true
   },
   "outputs": [],
   "source": [
    "df = getreturns()\n",
    "mInSampleReturns = df.loc[:\"2015\"]"
   ]
  },
  {
   "cell_type": "markdown",
   "metadata": {},
   "source": [
    "In de cel hieronder definieren we de update equation van de (diagonal) BEKK(1,1) model en de bijbehorende LogLikelihood functie met normaalverdeling.\n",
    "Bij de update equation hebben we ook gebruik gemaakt van variance targeting.\n",
    "Hierdoor ziet de update equation er als volgt uit: \n",
    "$$H_t = (ii'-aa'-bb')\\circ \\bar{H} + A'y_{t-1}y_{t-1}'A + B'H_{t-1}B$$\n",
    "\n",
    "- Waarbij $a$ en $b$ is gedifinieerd als:\n",
    "$$a=\\begin{pmatrix} a_{11} \\\\ a_{22} \\end{pmatrix}, \\quad b=\\begin{pmatrix} b_{11} \\\\ b_{22} \\end{pmatrix}$$\n",
    "\n",
    "- $A$ en $B$ als:\n",
    "$$A=\\begin{pmatrix} a_{11} & 0 \\\\ 0 & a_{22} \\end{pmatrix}, \\quad B=\\begin{pmatrix} b_{11} & 0 \\\\ 0 & b_{22} \\end{pmatrix} $$\n",
    "\n",
    "- $\\bar{H}$ en $y_t $ als:\n",
    "$$\\bar{H}=\\frac{1}{T}\\sum_{t=1}^{T}y_ty_t', \\quad y_t=\\begin{pmatrix} y_{1t} \\\\ y_{2t} \\end{pmatrix} $$\n",
    "\n",
    "- de bijbehorende Log-Likelihood is als volgt gedefinieerd\n",
    "$$ LL=-\\frac{1}{2}\\sum_{t=2}^{T}(n\\ln(2\\pi) + \\ln\\left|H_t\\right| + y_t'H_t^{-1}y_t), \\quad\\quad n=2$$\n",
    "<break>\n",
    "De functie hierboven wordt gemaximaliseerd wrt $a_{11},a_{22}, b_{11}, b_{22}$"
   ]
  },
  {
   "cell_type": "code",
   "execution_count": 5,
   "metadata": {
    "collapsed": true
   },
   "outputs": [],
   "source": [
    "def Parameters_BEKK_Normal(mReturns):\n",
    "    dA_11 = 0.2\n",
    "    dA_22 = 0.2\n",
    "    dB_11 = 0.7\n",
    "    dB_22 = 0.7    \n",
    "    vTheta = np.array([dA_11, dA_22, dB_11, dB_22])\n",
    "    \n",
    "    def Log_likelihood_BEKK_Normal(vTheta,returns):\n",
    "        iDimension = 2\n",
    "        iT = returns.shape[1]\n",
    "        dA11 = vTheta[0]\n",
    "        dA22 = vTheta[1]\n",
    "        dB11 = vTheta[2]\n",
    "        dB22 = vTheta[3]\n",
    "        vA = np.zeros( (iDimension,1) )\n",
    "        vB = np.zeros( (iDimension,1) )\n",
    "        \n",
    "        vA[0] = dA11\n",
    "        vA[1] = dA22\n",
    "        vB[0] = dB11\n",
    "        vB[1] = dB22\n",
    "        \n",
    "        mA = np.diag(vA.reshape(iDimension,) )\n",
    "        mB = np.diag(vB.reshape(iDimension,) )\n",
    "        mOnes = np.ones( (iDimension,iDimension) )\n",
    "        mH_sum = np.zeros( (iDimension,iDimension) )\n",
    "        \n",
    "        for t in range(iT):\n",
    "            vY_t = returns[:,t]\n",
    "            vY_t = vY_t.reshape((iDimension,1))\n",
    "            mH_t = vY_t@vY_t.T\n",
    "            mH_sum += mH_t\n",
    "        mH_bar = mH_sum / iT    \n",
    "        \n",
    "        mH_old = mH_bar\n",
    "        dSum = 0\n",
    "        for t in range(1,iT):\n",
    "            vY_lag = returns[:,t-1]\n",
    "            vY_lag = vY_lag.reshape((iDimension,1))\n",
    "            mY_lag = vY_lag@vY_lag.T\n",
    "            mH = ( mOnes - vA @ vA.T - vB @ vB.T) * mH_bar + mA.T @ mY_lag @ mA + mB.T @ mH_old @ mB\n",
    "            \n",
    "            \n",
    "            vY = returns[:,t]\n",
    "            vY = vY.reshape((iDimension,1))\n",
    "            dLogLik = -0.5 * ( iDimension * np.log(2*np.pi) + np.log(det(mH)) + vY.T @ inv(mH) @ vY )\n",
    "            dSum += np.asscalar(dLogLik)\n",
    "            mH_old = mH\n",
    "        return -dSum\n",
    "    \n",
    "\n",
    "    \n",
    "    def Optimizer(returns, initials, function, bnds):\n",
    "        result = minimize(function, initials, args=(returns), \\\n",
    "                          options ={'eps':1e-09, 'disp': True, 'maxiter':200}, method='SLSQP',bounds=bnds)\n",
    "        return result\n",
    "    bounds = ((0, 1), (0, 1), (0, 1), (0, 1))\n",
    "    result=Optimizer(mReturns, vTheta, Log_likelihood_BEKK_Normal, bounds)\n",
    "    return result.x, -result.fun, result.success"
   ]
  },
  {
   "cell_type": "markdown",
   "metadata": {},
   "source": [
    "Hier worden de parameter estimates en de bijbehorende log-likelihood score verkregen.\n",
    "De volgorde van de paramter vector is:\n",
    "<break>\n",
    "$[a_{11},a_{22},b_{11},b_{22}]$"
   ]
  },
  {
   "cell_type": "code",
   "execution_count": 6,
   "metadata": {},
   "outputs": [
    {
     "name": "stdout",
     "output_type": "stream",
     "text": [
      "Optimization terminated successfully.    (Exit mode 0)\n",
      "            Current function value: 3211.8550334863676\n",
      "            Iterations: 22\n",
      "            Function evaluations: 150\n",
      "            Gradient evaluations: 22\n",
      "[ 0.25561593  0.24421317  0.9491606   0.95353579]\n",
      "-3211.8550334863676\n",
      "True\n"
     ]
    }
   ],
   "source": [
    "( parameter_N, likelihood_N, success_N) = Parameters_BEKK_Normal( np.array(mInSampleReturns).T )\n",
    "print(parameter_N)\n",
    "print(likelihood_N)\n",
    "print(success_N)"
   ]
  },
  {
   "cell_type": "markdown",
   "metadata": {},
   "source": [
    "In de cel hieronder definieren we de update equation van de (diagonal) BEKK(1,1) model en de bijbehorende LogLikelihood functie met student-t verdeling.\n",
    "Bij de update equation hebben we ook gebruik gemaakt van variance targeting.\n",
    "Hierdoor ziet de update equation er als volgt uit: \n",
    "$$H_t = (ii'-aa'-bb')\\circ \\bar{H} + A'y_{t-1}y_{t-1}'A + B'H_{t-1}B$$\n",
    "\n",
    "- Waarbij $a$ en $b$ is gedifinieerd als:\n",
    "$$a=\\begin{pmatrix} a_{11} \\\\ a_{22} \\end{pmatrix}, \\quad b=\\begin{pmatrix} b_{11} \\\\ b_{22} \\end{pmatrix}$$\n",
    "\n",
    "- $A$ en $B$ als:\n",
    "$$A=\\begin{pmatrix} a_{11} & 0 \\\\ 0 & a_{22} \\end{pmatrix}, \\quad B=\\begin{pmatrix} b_{11} & 0 \\\\ 0 & b_{22} \\end{pmatrix} $$\n",
    "\n",
    "- $\\bar{H}$ en $y_t $ als:\n",
    "$$\\bar{H}=\\frac{1}{T}\\sum_{t=1}^{T}y_ty_t', \\quad y_t=\\begin{pmatrix} y_{1t} \\\\ y_{2t} \\end{pmatrix} $$\n",
    "\n",
    "- de bijbehorende Log-Likelihood is als volgt gedefinieerd\n",
    "$$ LL=-\\sum_{t=2}^{T}\\left(\\log\\Gamma\\left(\\frac{\\nu+n}{2}\\right) -\\log\\Gamma\\left(\\frac{\\nu}{2}\\right)\n",
    "        -\\frac{1}{2}\\log(\\pi(\\nu-2))-\\frac{1}{2}\\log(|H_t|)-\\left(\\frac{\\nu+n}{2}\\right)                                              \\log\\left(1+\\frac{y_t'H_t^{-1}y_t}{\\nu-2}\\right)\\right), \\quad n=2$$\n",
    "<break>\n",
    "<break>\n",
    "De functie hierboven wordt gemaximaliseerd wrt $a_{11},a_{22}, b_{11}, b_{22}, \\nu$"
   ]
  },
  {
   "cell_type": "code",
   "execution_count": 7,
   "metadata": {
    "collapsed": true
   },
   "outputs": [],
   "source": [
    "def Parameters_BEKK_Student(mReturns):\n",
    "    dA_11 = 0.1\n",
    "    dA_22 = 0.1\n",
    "    dB_11 = 0.8\n",
    "    dB_22 = 0.8  \n",
    "    dNu = 4.2\n",
    "    vTheta = np.array([dA_11, dA_22, dB_11, dB_22,dNu])\n",
    "    \n",
    "    def Log_likelihood_BEKK_Student(vTheta,returns):\n",
    "        iDimension = 2\n",
    "        iT = returns.shape[1]\n",
    "        dA11 = vTheta[0]\n",
    "        dA22 = vTheta[1]\n",
    "        dB11 = vTheta[2]\n",
    "        dB22 = vTheta[3]\n",
    "        dNu = vTheta[4]\n",
    "        vA = np.zeros((iDimension,1))\n",
    "        vB = np.zeros((iDimension,1))\n",
    "        \n",
    "        vA[0] = dA11\n",
    "        vA[1] = dA22\n",
    "        vB[0] = dB11\n",
    "        vB[1] = dB22\n",
    "        \n",
    "        mA = np.diag(vA.reshape(iDimension,))\n",
    "        mB = np.diag(vB.reshape(iDimension,))\n",
    "        mOnes = np.ones((iDimension,iDimension))\n",
    "        mH_sum = np.zeros((iDimension,iDimension))\n",
    "        \n",
    "        for t in range(iT):\n",
    "            vY_t = returns[:,t]\n",
    "            vY_t = vY_t.reshape((iDimension,1))\n",
    "            mH_t = vY_t@vY_t.T\n",
    "            mH_sum += mH_t\n",
    "        mH_bar = mH_sum/iT    \n",
    "        \n",
    "        mH_old = mH_bar\n",
    "        dSum = 0\n",
    "        for t in range(1,iT):\n",
    "            vY_lag = returns[:,t-1]\n",
    "            vY_lag = vY_lag.reshape((iDimension,1))\n",
    "            mY_lag = vY_lag@vY_lag.T\n",
    "            mH = ( mOnes - vA @ vA.T - vB @ vB.T) * mH_bar + mA.T @ mY_lag @ mA + mB.T @ mH_old @ mB\n",
    "            \n",
    "            \n",
    "            vY = returns[:,t]\n",
    "            vY = vY.reshape((iDimension,1))\n",
    "            dLogLik = gammaln( (dNu+iDimension)/2 ) - gammaln(dNu/2) - (iDimension/2) * np.log( np.pi*(dNu-2) ) \\\n",
    "                    -(1/2) * np.log( det(mH) ) - ( (dNu+iDimension)/2 ) * np.log(1+ ( ( vY.T @ inv(mH) @ vY ) / ( dNu-2 ) ) )\n",
    "            dSum += np.asscalar(dLogLik)\n",
    "            mH_old = mH\n",
    "        return -dSum\n",
    "    \n",
    "    def constraint1(vTheta):\n",
    "        a11=vTheta[0]\n",
    "        b11=vTheta[2]\n",
    "        return 1-a11-b11\n",
    "    \n",
    "    def constraint2(vTheta):\n",
    "        a22=vTheta[1]\n",
    "        b22=vTheta[3]\n",
    "        return 1-a22-b22\n",
    "    \n",
    "    \n",
    "    def Optimizer(returns, initials, function, bnds):\n",
    "        result = minimize(function, initials, args=(returns), \\\n",
    "                          options ={'eps':1e-09, 'disp': True, 'maxiter':200}, method='SLSQP',bounds=bnds)\n",
    "        return result\n",
    "    bounds = ((0, 1), (0, 1), (0, 1), (0, 1), (2.1,50))\n",
    "    result = Optimizer(mReturns, vTheta, Log_likelihood_BEKK_Student, bounds)\n",
    "    return result.x, -result.fun, result.success"
   ]
  },
  {
   "cell_type": "markdown",
   "metadata": {},
   "source": [
    "Hier worden de parameter estimates en de bijbehorende log-likelihood score verkregen.\n",
    "De volgorde van de paramter vector is:\n",
    "<break>\n",
    "$[a_{11},a_{22},b_{11},b_{22},\\nu]$"
   ]
  },
  {
   "cell_type": "code",
   "execution_count": 8,
   "metadata": {},
   "outputs": [
    {
     "name": "stdout",
     "output_type": "stream",
     "text": [
      "Optimization terminated successfully.    (Exit mode 0)\n",
      "            Current function value: 3167.0664203858887\n",
      "            Iterations: 26\n",
      "            Function evaluations: 204\n",
      "            Gradient evaluations: 26\n",
      "[ 0.23980112  0.23423544  0.95731286  0.95977162  8.15825699]\n",
      "-3167.0664203858887\n",
      "True\n"
     ]
    }
   ],
   "source": [
    "(parameter_S,likelihood_S,success_S)=Parameters_BEKK_Student(np.array(mInSampleReturns).T)\n",
    "print(parameter_S)\n",
    "print(likelihood_S)\n",
    "print(success_S)"
   ]
  }
 ],
 "metadata": {
  "kernelspec": {
   "display_name": "Python 3",
   "language": "python",
   "name": "python3"
  },
  "language_info": {
   "codemirror_mode": {
    "name": "ipython",
    "version": 3
   },
   "file_extension": ".py",
   "mimetype": "text/x-python",
   "name": "python",
   "nbconvert_exporter": "python",
   "pygments_lexer": "ipython3",
   "version": "3.6.1"
  }
 },
 "nbformat": 4,
 "nbformat_minor": 2
}
